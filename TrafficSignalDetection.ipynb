{
 "cells": [
  {
   "cell_type": "code",
   "execution_count": 2,
   "metadata": {},
   "outputs": [],
   "source": [
    "import pickle\n",
    "import glob\n",
    "import cv2, matplotlib\n",
    "import numpy as np\n",
    "import matplotlib.pyplot as plt\n",
    "from pylab import array, plot, show, axis, arange, uint8\n",
    "import tensorflow as tf\n",
    "from tensorflow import keras\n"
   ]
  },
  {
   "cell_type": "code",
   "execution_count": 3,
   "metadata": {},
   "outputs": [],
   "source": [
    "train_dir = 'TrainIJCNN2013/*.ppm'\n"
   ]
  },
  {
   "cell_type": "code",
   "execution_count": 4,
   "metadata": {},
   "outputs": [],
   "source": [
    "def brightness_equilization(img):\n",
    "    hist,bins = np.histogram(img.flatten(),256,[0,256])\n",
    "    cdf = hist.cumsum()\n",
    "    cdf_normalized = cdf * hist.max()/ cdf.max()\n",
    "    cdf_m = np.ma.masked_equal(cdf,0)\n",
    "    cdf_m = (cdf_m - cdf_m.min())*255/(cdf_m.max()-cdf_m.min())\n",
    "    cdf = np.ma.filled(cdf_m,0).astype('uint8')\n",
    "    return cdf[img]"
   ]
  },
  {
   "cell_type": "code",
   "execution_count": 5,
   "metadata": {},
   "outputs": [],
   "source": [
    "images = []\n",
    "for filename in sorted(glob.iglob(train_dir, recursive=False)):\n",
    "    orig_img = cv2.imread(filename) \n",
    "    orig_img = cv2.cvtColor(orig_img, cv2.COLOR_BGR2RGB)\n",
    "    brighter_img = brightness_equilization(orig_img)\n",
    "    img_hsv = cv2.cvtColor(brighter_img, cv2.COLOR_BGR2HSV)\n",
    "   \n",
    "    # threshold for hue channel in red range\n",
    "    red_min = np.array([10,150,50], np.uint8)\n",
    "    red_max = np.array([255,255,180], np.uint8)\n",
    "    threshold_red_img = cv2.inRange(img_hsv, red_min, red_max)\n",
    "    threshold_red_img = cv2.cvtColor(threshold_red_img, cv2.COLOR_GRAY2RGB)\n",
    "    gray_img = cv2.cvtColor(threshold_red_img, cv2.COLOR_RGB2GRAY)\n",
    "    \n",
    "    processed_img = gray_img/255.0\n",
    "    images.append(processed_img)\n",
    "    "
   ]
  },
  {
   "cell_type": "code",
   "execution_count": 325,
   "metadata": {},
   "outputs": [
    {
     "name": "stdout",
     "output_type": "stream",
     "text": [
      "shape: (800, 1360), min: 0.0, max: 1.0\n",
      "shape: (800, 1360), min: 0.0, max: 1.0\n",
      "shape: (800, 1360), min: 0.0, max: 1.0\n",
      "shape: (800, 1360), min: 0.0, max: 1.0\n",
      "shape: (800, 1360), min: 0.0, max: 1.0\n"
     ]
    }
   ],
   "source": [
    "for image in images[:5]:\n",
    "    print(\"shape: {0}, min: {1}, max: {2}\".format(\n",
    "          image.shape, image.min(), image.max()))"
   ]
  },
  {
   "cell_type": "code",
   "execution_count": 320,
   "metadata": {},
   "outputs": [],
   "source": [
    "# Preparing training labels\n",
    "i=0\n",
    "circular_labels = [0, 1, 2, 3, 4, 5, 7, 8, 9, 10, 15, 16]\n",
    "label_file  = open(\"TrainIJCNN2013/gt.txt\", \"r\")\n",
    "lines=label_file.readlines()\n",
    "labels = np.zeros(shape = (600,1))\n",
    "prev_image=\"\"\n",
    "for line in lines:\n",
    "    image_details = line.split(';')\n",
    "    image_name = image_details[0]\n",
    "    image_type = int(image_details[5])\n",
    "    if(image_name == prev_image and labels[i] ==0):\n",
    "        if(image_type in circular_labels):\n",
    "            labels[i] = 1\n",
    "    elif(image_name == prev_image and labels[i] ==1):\n",
    "        continue;\n",
    "    else:\n",
    "        if(image_type in circular_labels):\n",
    "            labels[i] = 1\n",
    "        i+=1\n",
    "    prev_image = image_name\n"
   ]
  },
  {
   "cell_type": "code",
   "execution_count": 318,
   "metadata": {},
   "outputs": [
    {
     "data": {
      "text/plain": [
       "(100, 800, 1360)"
      ]
     },
     "execution_count": 318,
     "metadata": {},
     "output_type": "execute_result"
    }
   ],
   "source": [
    "train_data = np.asarray(images)"
   ]
  },
  {
   "cell_type": "code",
   "execution_count": 321,
   "metadata": {},
   "outputs": [
    {
     "data": {
      "text/plain": [
       "(600, 1)"
      ]
     },
     "execution_count": 321,
     "metadata": {},
     "output_type": "execute_result"
    }
   ],
   "source": [
    "train_labels = labels"
   ]
  }
 ],
 "metadata": {
  "kernelspec": {
   "display_name": "Python 3",
   "language": "python",
   "name": "python3"
  },
  "language_info": {
   "codemirror_mode": {
    "name": "ipython",
    "version": 3
   },
   "file_extension": ".py",
   "mimetype": "text/x-python",
   "name": "python",
   "nbconvert_exporter": "python",
   "pygments_lexer": "ipython3",
   "version": "3.6.6"
  }
 },
 "nbformat": 4,
 "nbformat_minor": 2
}
